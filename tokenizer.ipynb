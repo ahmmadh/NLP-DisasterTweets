{
 "cells": [
  {
   "cell_type": "code",
   "execution_count": 43,
   "metadata": {},
   "outputs": [
    {
     "name": "stderr",
     "output_type": "stream",
     "text": [
      "[nltk_data] Downloading package punkt to\n",
      "[nltk_data]     C:\\Users\\Ahmad\\AppData\\Roaming\\nltk_data...\n",
      "[nltk_data]   Package punkt is already up-to-date!\n"
     ]
    }
   ],
   "source": [
    "import tensorflow as tf\n",
    "from tensorflow.keras.preprocessing.text import Tokenizer # type: ignore\n",
    "from tensorflow.keras.preprocessing.sequence import pad_sequences #type: ignore\n",
    "import numpy as np\n",
    "import pandas as pd\n",
    "import matplotlib.pyplot as plt\n",
    "from wordcloud import wordcloud\n",
    "import re\n",
    "import nltk\n",
    "from nltk.stem import PorterStemmer\n",
    "from nltk.tokenize import word_tokenize\n",
    "nltk.download('punkt')\n",
    "\n",
    "from sklearn.naive_bayes import GaussianNB\n",
    "from sklearn.metrics import classification_report, accuracy_score\n",
    "from sklearn.feature_extraction.text import TfidfVectorizer"
   ]
  },
  {
   "cell_type": "code",
   "execution_count": 44,
   "metadata": {},
   "outputs": [],
   "source": [
    "tokenizer = Tokenizer(num_words = 30730, oov_token=\"<OOV>\")\n",
    "#tokenizer.fit_on_texts(sentences)\n",
    "#word_index = tokenizer.word_index\n",
    "#print(word_index)"
   ]
  },
  {
   "cell_type": "code",
   "execution_count": 45,
   "metadata": {},
   "outputs": [
    {
     "data": {
      "text/html": [
       "<div>\n",
       "<style scoped>\n",
       "    .dataframe tbody tr th:only-of-type {\n",
       "        vertical-align: middle;\n",
       "    }\n",
       "\n",
       "    .dataframe tbody tr th {\n",
       "        vertical-align: top;\n",
       "    }\n",
       "\n",
       "    .dataframe thead th {\n",
       "        text-align: right;\n",
       "    }\n",
       "</style>\n",
       "<table border=\"1\" class=\"dataframe\">\n",
       "  <thead>\n",
       "    <tr style=\"text-align: right;\">\n",
       "      <th></th>\n",
       "      <th>keyword</th>\n",
       "      <th>location</th>\n",
       "      <th>text</th>\n",
       "      <th>target</th>\n",
       "    </tr>\n",
       "    <tr>\n",
       "      <th>id</th>\n",
       "      <th></th>\n",
       "      <th></th>\n",
       "      <th></th>\n",
       "      <th></th>\n",
       "    </tr>\n",
       "  </thead>\n",
       "  <tbody>\n",
       "    <tr>\n",
       "      <th>0</th>\n",
       "      <td>ablaze</td>\n",
       "      <td>NaN</td>\n",
       "      <td>Communal violence in Bhainsa, Telangana. \"Ston...</td>\n",
       "      <td>1</td>\n",
       "    </tr>\n",
       "    <tr>\n",
       "      <th>1</th>\n",
       "      <td>ablaze</td>\n",
       "      <td>NaN</td>\n",
       "      <td>Telangana: Section 144 has been imposed in Bha...</td>\n",
       "      <td>1</td>\n",
       "    </tr>\n",
       "    <tr>\n",
       "      <th>2</th>\n",
       "      <td>ablaze</td>\n",
       "      <td>New York City</td>\n",
       "      <td>Arsonist sets cars ablaze at dealership https:...</td>\n",
       "      <td>1</td>\n",
       "    </tr>\n",
       "    <tr>\n",
       "      <th>3</th>\n",
       "      <td>ablaze</td>\n",
       "      <td>Morgantown, WV</td>\n",
       "      <td>Arsonist sets cars ablaze at dealership https:...</td>\n",
       "      <td>1</td>\n",
       "    </tr>\n",
       "    <tr>\n",
       "      <th>4</th>\n",
       "      <td>ablaze</td>\n",
       "      <td>NaN</td>\n",
       "      <td>\"Lord Jesus, your love brings freedom and pard...</td>\n",
       "      <td>0</td>\n",
       "    </tr>\n",
       "  </tbody>\n",
       "</table>\n",
       "</div>"
      ],
      "text/plain": [
       "   keyword        location                                               text  \\\n",
       "id                                                                              \n",
       "0   ablaze             NaN  Communal violence in Bhainsa, Telangana. \"Ston...   \n",
       "1   ablaze             NaN  Telangana: Section 144 has been imposed in Bha...   \n",
       "2   ablaze   New York City  Arsonist sets cars ablaze at dealership https:...   \n",
       "3   ablaze  Morgantown, WV  Arsonist sets cars ablaze at dealership https:...   \n",
       "4   ablaze             NaN  \"Lord Jesus, your love brings freedom and pard...   \n",
       "\n",
       "    target  \n",
       "id          \n",
       "0        1  \n",
       "1        1  \n",
       "2        1  \n",
       "3        1  \n",
       "4        0  "
      ]
     },
     "execution_count": 45,
     "metadata": {},
     "output_type": "execute_result"
    }
   ],
   "source": [
    "df = pd.read_csv(\"data/tweets.csv\")\n",
    "df = df.set_index(\"id\")\n",
    "df.head()"
   ]
  },
  {
   "cell_type": "markdown",
   "metadata": {},
   "source": [
    "<h1>balancing the data</h1>"
   ]
  },
  {
   "cell_type": "code",
   "execution_count": 46,
   "metadata": {},
   "outputs": [
    {
     "data": {
      "image/png": "[encoded data removed]",
      "text/plain": [
       "<Figure size 640x480 with 1 Axes>"
      ]
     },
     "metadata": {},
     "output_type": "display_data"
    }
   ],
   "source": [
    "target = df[\"target\"].value_counts()\n",
    "plt.pie([target[1],target[0]],labels=[\"Disastrous\",\"Non Disastrours\"])\n",
    "plt.show()"
   ]
  },
  {
   "cell_type": "code",
   "execution_count": 47,
   "metadata": {},
   "outputs": [
    {
     "name": "stdout",
     "output_type": "stream",
     "text": [
      "2114\n"
     ]
    }
   ],
   "source": [
    "print(target[1])\n",
    "zerorows = df[df[\"target\"]==0]\n",
    "onerows = df[df[\"target\"]==1]\n",
    "zerorows = zerorows.iloc[:2114]\n",
    "new_df = pd.concat([zerorows,onerows])\n"
   ]
  },
  {
   "cell_type": "code",
   "execution_count": 48,
   "metadata": {},
   "outputs": [
    {
     "data": {
      "image/png": "[encoded data removed]",
      "text/plain": [
       "<Figure size 640x480 with 1 Axes>"
      ]
     },
     "metadata": {},
     "output_type": "display_data"
    }
   ],
   "source": [
    "target = new_df[\"target\"].value_counts()\n",
    "plt.pie([target[1],target[0]],labels=[\"Disastrous\",\"Non Disastrours\"])\n",
    "plt.show()"
   ]
  },
  {
   "cell_type": "code",
   "execution_count": 49,
   "metadata": {},
   "outputs": [
    {
     "name": "stdout",
     "output_type": "stream",
     "text": [
      "            target\n",
      "count  4228.000000\n",
      "mean      0.500000\n",
      "std       0.500059\n",
      "min       0.000000\n",
      "25%       0.000000\n",
      "50%       0.500000\n",
      "75%       1.000000\n",
      "max       1.000000\n"
     ]
    }
   ],
   "source": [
    "print(new_df.describe())"
   ]
  },
  {
   "cell_type": "markdown",
   "metadata": {},
   "source": [
    "<h1>Removing URLs from data using regular expression</h1>"
   ]
  },
  {
   "cell_type": "code",
   "execution_count": 50,
   "metadata": {},
   "outputs": [
    {
     "data": {
      "text/html": [
       "<div>\n",
       "<style scoped>\n",
       "    .dataframe tbody tr th:only-of-type {\n",
       "        vertical-align: middle;\n",
       "    }\n",
       "\n",
       "    .dataframe tbody tr th {\n",
       "        vertical-align: top;\n",
       "    }\n",
       "\n",
       "    .dataframe thead th {\n",
       "        text-align: right;\n",
       "    }\n",
       "</style>\n",
       "<table border=\"1\" class=\"dataframe\">\n",
       "  <thead>\n",
       "    <tr style=\"text-align: right;\">\n",
       "      <th></th>\n",
       "      <th>keyword</th>\n",
       "      <th>location</th>\n",
       "      <th>text</th>\n",
       "      <th>target</th>\n",
       "    </tr>\n",
       "    <tr>\n",
       "      <th>id</th>\n",
       "      <th></th>\n",
       "      <th></th>\n",
       "      <th></th>\n",
       "      <th></th>\n",
       "    </tr>\n",
       "  </thead>\n",
       "  <tbody>\n",
       "    <tr>\n",
       "      <th>0</th>\n",
       "      <td>ablaze</td>\n",
       "      <td>NaN</td>\n",
       "      <td>Communal violence in Bhainsa, Telangana. \"Ston...</td>\n",
       "      <td>1</td>\n",
       "    </tr>\n",
       "    <tr>\n",
       "      <th>1</th>\n",
       "      <td>ablaze</td>\n",
       "      <td>NaN</td>\n",
       "      <td>Telangana: Section 144 has been imposed in Bha...</td>\n",
       "      <td>1</td>\n",
       "    </tr>\n",
       "    <tr>\n",
       "      <th>2</th>\n",
       "      <td>ablaze</td>\n",
       "      <td>New York City</td>\n",
       "      <td>Arsonist sets cars ablaze at dealership https:...</td>\n",
       "      <td>1</td>\n",
       "    </tr>\n",
       "    <tr>\n",
       "      <th>3</th>\n",
       "      <td>ablaze</td>\n",
       "      <td>Morgantown, WV</td>\n",
       "      <td>Arsonist sets cars ablaze at dealership https:...</td>\n",
       "      <td>1</td>\n",
       "    </tr>\n",
       "    <tr>\n",
       "      <th>4</th>\n",
       "      <td>ablaze</td>\n",
       "      <td>NaN</td>\n",
       "      <td>\"Lord Jesus, your love brings freedom and pard...</td>\n",
       "      <td>0</td>\n",
       "    </tr>\n",
       "    <tr>\n",
       "      <th>...</th>\n",
       "      <td>...</td>\n",
       "      <td>...</td>\n",
       "      <td>...</td>\n",
       "      <td>...</td>\n",
       "    </tr>\n",
       "    <tr>\n",
       "      <th>11338</th>\n",
       "      <td>wrecked</td>\n",
       "      <td>Puchong</td>\n",
       "      <td>Kesian ular. We have wrecked their natural hab...</td>\n",
       "      <td>1</td>\n",
       "    </tr>\n",
       "    <tr>\n",
       "      <th>11354</th>\n",
       "      <td>wrecked</td>\n",
       "      <td>NaN</td>\n",
       "      <td>Yeah, proper Liverpool fans wrecked Man City’s...</td>\n",
       "      <td>1</td>\n",
       "    </tr>\n",
       "    <tr>\n",
       "      <th>11355</th>\n",
       "      <td>wrecked</td>\n",
       "      <td>Recife</td>\n",
       "      <td>\"Trump and Sisi 'rejected foreign exploitation...</td>\n",
       "      <td>1</td>\n",
       "    </tr>\n",
       "    <tr>\n",
       "      <th>11359</th>\n",
       "      <td>wrecked</td>\n",
       "      <td>Washington, DC</td>\n",
       "      <td>\"Trump and Sisi 'rejected foreign exploitation...</td>\n",
       "      <td>1</td>\n",
       "    </tr>\n",
       "    <tr>\n",
       "      <th>11369</th>\n",
       "      <td>wrecked</td>\n",
       "      <td>NaN</td>\n",
       "      <td>Jake Corway wrecked while running 14th at IRP.</td>\n",
       "      <td>1</td>\n",
       "    </tr>\n",
       "  </tbody>\n",
       "</table>\n",
       "<p>4228 rows × 4 columns</p>\n",
       "</div>"
      ],
      "text/plain": [
       "       keyword        location  \\\n",
       "id                               \n",
       "0       ablaze             NaN   \n",
       "1       ablaze             NaN   \n",
       "2       ablaze   New York City   \n",
       "3       ablaze  Morgantown, WV   \n",
       "4       ablaze             NaN   \n",
       "...        ...             ...   \n",
       "11338  wrecked         Puchong   \n",
       "11354  wrecked             NaN   \n",
       "11355  wrecked          Recife   \n",
       "11359  wrecked  Washington, DC   \n",
       "11369  wrecked             NaN   \n",
       "\n",
       "                                                    text  target  \n",
       "id                                                                \n",
       "0      Communal violence in Bhainsa, Telangana. \"Ston...       1  \n",
       "1      Telangana: Section 144 has been imposed in Bha...       1  \n",
       "2      Arsonist sets cars ablaze at dealership https:...       1  \n",
       "3      Arsonist sets cars ablaze at dealership https:...       1  \n",
       "4      \"Lord Jesus, your love brings freedom and pard...       0  \n",
       "...                                                  ...     ...  \n",
       "11338  Kesian ular. We have wrecked their natural hab...       1  \n",
       "11354  Yeah, proper Liverpool fans wrecked Man City’s...       1  \n",
       "11355  \"Trump and Sisi 'rejected foreign exploitation...       1  \n",
       "11359  \"Trump and Sisi 'rejected foreign exploitation...       1  \n",
       "11369     Jake Corway wrecked while running 14th at IRP.       1  \n",
       "\n",
       "[4228 rows x 4 columns]"
      ]
     },
     "execution_count": 50,
     "metadata": {},
     "output_type": "execute_result"
    }
   ],
   "source": [
    "new_df.sort_index()\n"
   ]
  },
  {
   "cell_type": "code",
   "execution_count": 53,
   "metadata": {},
   "outputs": [
    {
     "name": "stderr",
     "output_type": "stream",
     "text": [
      "C:\\Users\\Ahmad\\AppData\\Local\\Temp\\ipykernel_15192\\1947969119.py:9: SettingWithCopyWarning: \n",
      "A value is trying to be set on a copy of a slice from a DataFrame\n",
      "\n",
      "See the caveats in the documentation: https://pandas.pydata.org/pandas-docs/stable/user_guide/indexing.html#returning-a-view-versus-a-copy\n",
      "  new_df[\"text\"].iloc[i] = a\n",
      "C:\\Users\\Ahmad\\AppData\\Local\\Temp\\ipykernel_15192\\1947969119.py:9: SettingWithCopyWarning: \n",
      "A value is trying to be set on a copy of a slice from a DataFrame\n",
      "\n",
      "See the caveats in the documentation: https://pandas.pydata.org/pandas-docs/stable/user_guide/indexing.html#returning-a-view-versus-a-copy\n",
      "  new_df[\"text\"].iloc[i] = a\n"
     ]
    }
   ],
   "source": [
    "url_pattren = re.compile(r'https?://\\S+|www\\.\\S+')\n",
    "for i in range(len(new_df)):\n",
    "    a = new_df[\"text\"].iloc[i]\n",
    "    b = url_pattren.findall(a)\n",
    "    if not b:\n",
    "        continue\n",
    "    else:\n",
    "        a = a.replace(b[0],\"\")\n",
    "        new_df[\"text\"].iloc[i] = a\n",
    "    "
   ]
  },
  {
   "cell_type": "markdown",
   "metadata": {},
   "source": [
    "<h1>Stemming and Tokenization</h1>"
   ]
  },
  {
   "cell_type": "code",
   "execution_count": 54,
   "metadata": {},
   "outputs": [
    {
     "name": "stdout",
     "output_type": "stream",
     "text": [
      "       keyword        location  \\\n",
      "id                               \n",
      "4       ablaze             NaN   \n",
      "5       ablaze              OC   \n",
      "8       ablaze    Accra, Ghana   \n",
      "9       ablaze       Searching   \n",
      "11      ablaze             NaN   \n",
      "...        ...             ...   \n",
      "11338  wrecked         Puchong   \n",
      "11354  wrecked             NaN   \n",
      "11355  wrecked          Recife   \n",
      "11359  wrecked  Washington, DC   \n",
      "11369  wrecked             NaN   \n",
      "\n",
      "                                                    text  target  \n",
      "id                                                                \n",
      "4      `` lord jesu , your love bring freedom and par...       0  \n",
      "5      if thi child wa chines , thi tweet would have ...       0  \n",
      "8      nation secur minist , kan dapaah 's side chic ...       0  \n",
      "9      thi creatur who ’ s soul is no longer clarent ...       0  \n",
      "11     social media went banana after chuba hubbard a...       0  \n",
      "...                                                  ...     ...  \n",
      "11338  kesian ular . we have wreck their natur habitat .       1  \n",
      "11354  yeah , proper liverpool fan wreck man citi ’ s...       1  \n",
      "11355  `` trump and sisi 'reject foreign exploit and ...       1  \n",
      "11359  `` trump and sisi 'reject foreign exploit and ...       1  \n",
      "11369          jake corway wreck while run 14th at irp .       1  \n",
      "\n",
      "[4228 rows x 4 columns]\n"
     ]
    }
   ],
   "source": [
    "stemmer = PorterStemmer()\n",
    "\n",
    "def stem_text(text):\n",
    "    words = word_tokenize(text)\n",
    "    stemmed_words = [stemmer.stem(word) for word in words]\n",
    "    return ' '.join(stemmed_words)\n",
    "\n",
    "new_df[\"text\"] = new_df[\"text\"].apply(stem_text)\n",
    "\n",
    "print(new_df)"
   ]
  },
  {
   "cell_type": "code",
   "execution_count": 65,
   "metadata": {},
   "outputs": [
    {
     "data": {
      "text/html": [
       "<div>\n",
       "<style scoped>\n",
       "    .dataframe tbody tr th:only-of-type {\n",
       "        vertical-align: middle;\n",
       "    }\n",
       "\n",
       "    .dataframe tbody tr th {\n",
       "        vertical-align: top;\n",
       "    }\n",
       "\n",
       "    .dataframe thead th {\n",
       "        text-align: right;\n",
       "    }\n",
       "</style>\n",
       "<table border=\"1\" class=\"dataframe\">\n",
       "  <thead>\n",
       "    <tr style=\"text-align: right;\">\n",
       "      <th></th>\n",
       "      <th>target</th>\n",
       "    </tr>\n",
       "  </thead>\n",
       "  <tbody>\n",
       "    <tr>\n",
       "      <th>count</th>\n",
       "      <td>4228.000000</td>\n",
       "    </tr>\n",
       "    <tr>\n",
       "      <th>mean</th>\n",
       "      <td>0.500000</td>\n",
       "    </tr>\n",
       "    <tr>\n",
       "      <th>std</th>\n",
       "      <td>0.500059</td>\n",
       "    </tr>\n",
       "    <tr>\n",
       "      <th>min</th>\n",
       "      <td>0.000000</td>\n",
       "    </tr>\n",
       "    <tr>\n",
       "      <th>25%</th>\n",
       "      <td>0.000000</td>\n",
       "    </tr>\n",
       "    <tr>\n",
       "      <th>50%</th>\n",
       "      <td>0.500000</td>\n",
       "    </tr>\n",
       "    <tr>\n",
       "      <th>75%</th>\n",
       "      <td>1.000000</td>\n",
       "    </tr>\n",
       "    <tr>\n",
       "      <th>max</th>\n",
       "      <td>1.000000</td>\n",
       "    </tr>\n",
       "  </tbody>\n",
       "</table>\n",
       "</div>"
      ],
      "text/plain": [
       "            target\n",
       "count  4228.000000\n",
       "mean      0.500000\n",
       "std       0.500059\n",
       "min       0.000000\n",
       "25%       0.000000\n",
       "50%       0.500000\n",
       "75%       1.000000\n",
       "max       1.000000"
      ]
     },
     "execution_count": 65,
     "metadata": {},
     "output_type": "execute_result"
    }
   ],
   "source": [
    "new_df2 = new_df.drop([\"keyword\",\"location\"],axis=1)\n",
    "new_df2 = new_df2.sample(frac=1,random_state=42)\n",
    "\n",
    "new_df2.describe()"
   ]
  },
  {
   "cell_type": "code",
   "execution_count": 66,
   "metadata": {},
   "outputs": [],
   "source": [
    "training_Sentences = new_df2[[\"text\",\"target\"]].iloc[:3381]\n",
    "testing_Sentences = new_df2[[\"text\",\"target\"]].iloc[3381:]\n",
    "\n",
    "\n",
    "tokenizer.fit_on_texts(training_Sentences[\"text\"])\n",
    "wl = tokenizer.word_index\n",
    "\n",
    "training_Sequences = tokenizer.texts_to_sequences(training_Sentences[\"text\"])\n",
    "testing_Sequences = tokenizer.texts_to_sequences(testing_Sentences[\"text\"])\n",
    "padded_train = pad_sequences(training_Sequences,padding=\"post\")\n",
    "padded_test = pad_sequences(testing_Sequences,padding=\"post\")\n",
    "dfcsv = pd.DataFrame(padded_train)\n",
    "dfcsv.to_csv(\"padded.csv\")"
   ]
  },
  {
   "cell_type": "code",
   "execution_count": 67,
   "metadata": {},
   "outputs": [],
   "source": [
    "training_Sentences = new_df2[[\"text\",\"target\"]].iloc[:3381]\n",
    "testing_Sentences = new_df2[[\"text\",\"target\"]].iloc[3381:]\n",
    "\n",
    "vectorizer = TfidfVectorizer()\n",
    "x = vectorizer.fit_transform(training_Sentences[\"text\"])\n",
    "y = vectorizer.transform(testing_Sentences[\"text\"])"
   ]
  },
  {
   "cell_type": "code",
   "execution_count": 68,
   "metadata": {},
   "outputs": [
    {
     "name": "stdout",
     "output_type": "stream",
     "text": [
      "              precision    recall  f1-score   support\n",
      "\n",
      "           0       0.80      0.65      0.72       420\n",
      "           1       0.71      0.84      0.77       427\n",
      "\n",
      "    accuracy                           0.74       847\n",
      "   macro avg       0.75      0.74      0.74       847\n",
      "weighted avg       0.75      0.74      0.74       847\n",
      "\n"
     ]
    }
   ],
   "source": [
    "\n",
    "nbmodel = GaussianNB()\n",
    "\n",
    "nbmodel.fit(x.toarray(),training_Sentences[\"target\"])\n",
    "\n",
    "y_pred = nbmodel.predict(y.toarray())\n",
    "\n",
    "print(classification_report(testing_Sentences[\"target\"],y_pred))"
   ]
  },
  {
   "cell_type": "code",
   "execution_count": null,
   "metadata": {},
   "outputs": [],
   "source": [
    "testing_Sequences = tokenizer.texts_to_sequences(testing_Sentences)\n",
    "padded_test = pad_sequences(testing_Sequences)"
   ]
  },
  {
   "cell_type": "code",
   "execution_count": null,
   "metadata": {},
   "outputs": [],
   "source": []
  }
 ],
 "metadata": {
  "kernelspec": {
   "display_name": "base",
   "language": "python",
   "name": "python3"
  },
  "language_info": {
   "codemirror_mode": {
    "name": "ipython",
    "version": 3
   },
   "file_extension": ".py",
   "mimetype": "text/x-python",
   "name": "python",
   "nbconvert_exporter": "python",
   "pygments_lexer": "ipython3",
   "version": "3.11.7"
  }
 },
 "nbformat": 4,
 "nbformat_minor": 2
}
